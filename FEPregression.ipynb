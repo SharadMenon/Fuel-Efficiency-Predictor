{
 "cells": [
  {
   "cell_type": "code",
   "execution_count": 3,
   "id": "c420ba33-36a9-4f04-9409-a7d75eb4ea08",
   "metadata": {},
   "outputs": [],
   "source": [
    "import pandas as pd\n",
    "from sklearn.model_selection import train_test_split\n",
    "from sklearn.linear_model import LinearRegression\n",
    "from sklearn.metrics import r2_score, mean_squared_error\n",
    "from sklearn.preprocessing import StandardScaler\n"
   ]
  },
  {
   "cell_type": "code",
   "execution_count": 4,
   "id": "3ab48866-96d1-40c9-96f9-e7af4e0b9fda",
   "metadata": {},
   "outputs": [
    {
     "data": {
      "text/html": [
       "<div>\n",
       "<style scoped>\n",
       "    .dataframe tbody tr th:only-of-type {\n",
       "        vertical-align: middle;\n",
       "    }\n",
       "\n",
       "    .dataframe tbody tr th {\n",
       "        vertical-align: top;\n",
       "    }\n",
       "\n",
       "    .dataframe thead th {\n",
       "        text-align: right;\n",
       "    }\n",
       "</style>\n",
       "<table border=\"1\" class=\"dataframe\">\n",
       "  <thead>\n",
       "    <tr style=\"text-align: right;\">\n",
       "      <th></th>\n",
       "      <th>Maker</th>\n",
       "      <th>Type</th>\n",
       "      <th>Seats</th>\n",
       "      <th>Displacement</th>\n",
       "      <th>Length</th>\n",
       "      <th>Width</th>\n",
       "      <th>Height</th>\n",
       "      <th>Wheelbase</th>\n",
       "      <th>No_of_Cylinders</th>\n",
       "      <th>Fuel</th>\n",
       "      <th>Transmission</th>\n",
       "      <th>Drive</th>\n",
       "      <th>Fuel Tank Capacity</th>\n",
       "      <th>Boot Space</th>\n",
       "      <th>Fuel Efficiency</th>\n",
       "      <th>Emission Type</th>\n",
       "      <th>Engine Size</th>\n",
       "      <th>Horsepower</th>\n",
       "    </tr>\n",
       "  </thead>\n",
       "  <tbody>\n",
       "    <tr>\n",
       "      <th>0</th>\n",
       "      <td>Volkswagen</td>\n",
       "      <td>Sedan</td>\n",
       "      <td>5</td>\n",
       "      <td>999.0</td>\n",
       "      <td>4561</td>\n",
       "      <td>1752</td>\n",
       "      <td>1507</td>\n",
       "      <td>2651</td>\n",
       "      <td>3.0</td>\n",
       "      <td>Petrol</td>\n",
       "      <td>6-Speed MT</td>\n",
       "      <td>2WD</td>\n",
       "      <td>45.0</td>\n",
       "      <td>521.0</td>\n",
       "      <td>19.40</td>\n",
       "      <td>BS VI</td>\n",
       "      <td>0.999</td>\n",
       "      <td>75</td>\n",
       "    </tr>\n",
       "    <tr>\n",
       "      <th>1</th>\n",
       "      <td>Volkswagen</td>\n",
       "      <td>Sedan</td>\n",
       "      <td>5</td>\n",
       "      <td>999.0</td>\n",
       "      <td>4561</td>\n",
       "      <td>1752</td>\n",
       "      <td>1507</td>\n",
       "      <td>2651</td>\n",
       "      <td>3.0</td>\n",
       "      <td>Petrol</td>\n",
       "      <td>6-Speed AT</td>\n",
       "      <td>2WD</td>\n",
       "      <td>45.0</td>\n",
       "      <td>521.0</td>\n",
       "      <td>18.12</td>\n",
       "      <td>BS VI</td>\n",
       "      <td>0.999</td>\n",
       "      <td>75</td>\n",
       "    </tr>\n",
       "    <tr>\n",
       "      <th>2</th>\n",
       "      <td>Volkswagen</td>\n",
       "      <td>Sedan</td>\n",
       "      <td>5</td>\n",
       "      <td>1498.0</td>\n",
       "      <td>4561</td>\n",
       "      <td>1752</td>\n",
       "      <td>1507</td>\n",
       "      <td>2651</td>\n",
       "      <td>4.0</td>\n",
       "      <td>Petrol</td>\n",
       "      <td>7-Speed DSG</td>\n",
       "      <td>2WD</td>\n",
       "      <td>45.0</td>\n",
       "      <td>521.0</td>\n",
       "      <td>18.67</td>\n",
       "      <td>BS VI</td>\n",
       "      <td>1.498</td>\n",
       "      <td>110</td>\n",
       "    </tr>\n",
       "    <tr>\n",
       "      <th>3</th>\n",
       "      <td>Volkswagen</td>\n",
       "      <td>Mid Size SUV</td>\n",
       "      <td>5</td>\n",
       "      <td>999.0</td>\n",
       "      <td>4221</td>\n",
       "      <td>1760</td>\n",
       "      <td>1612</td>\n",
       "      <td>2651</td>\n",
       "      <td>3.0</td>\n",
       "      <td>Petrol</td>\n",
       "      <td>6-Speed MT</td>\n",
       "      <td>2WD</td>\n",
       "      <td>50.0</td>\n",
       "      <td>385.0</td>\n",
       "      <td>19.20</td>\n",
       "      <td>BS VI</td>\n",
       "      <td>0.999</td>\n",
       "      <td>75</td>\n",
       "    </tr>\n",
       "    <tr>\n",
       "      <th>4</th>\n",
       "      <td>Volkswagen</td>\n",
       "      <td>Mid Size SUV</td>\n",
       "      <td>5</td>\n",
       "      <td>999.0</td>\n",
       "      <td>4221</td>\n",
       "      <td>1760</td>\n",
       "      <td>1612</td>\n",
       "      <td>2651</td>\n",
       "      <td>3.0</td>\n",
       "      <td>Petrol</td>\n",
       "      <td>6-Speed AT</td>\n",
       "      <td>2WD</td>\n",
       "      <td>50.0</td>\n",
       "      <td>385.0</td>\n",
       "      <td>17.23</td>\n",
       "      <td>BS VI</td>\n",
       "      <td>0.999</td>\n",
       "      <td>75</td>\n",
       "    </tr>\n",
       "  </tbody>\n",
       "</table>\n",
       "</div>"
      ],
      "text/plain": [
       "        Maker          Type  Seats  Displacement  Length  Width  Height  \\\n",
       "0  Volkswagen         Sedan      5         999.0    4561   1752    1507   \n",
       "1  Volkswagen         Sedan      5         999.0    4561   1752    1507   \n",
       "2  Volkswagen         Sedan      5        1498.0    4561   1752    1507   \n",
       "3  Volkswagen  Mid Size SUV      5         999.0    4221   1760    1612   \n",
       "4  Volkswagen  Mid Size SUV      5         999.0    4221   1760    1612   \n",
       "\n",
       "   Wheelbase  No_of_Cylinders    Fuel Transmission Drive  Fuel Tank Capacity  \\\n",
       "0       2651              3.0  Petrol   6-Speed MT   2WD                45.0   \n",
       "1       2651              3.0  Petrol   6-Speed AT   2WD                45.0   \n",
       "2       2651              4.0  Petrol  7-Speed DSG   2WD                45.0   \n",
       "3       2651              3.0  Petrol   6-Speed MT   2WD                50.0   \n",
       "4       2651              3.0  Petrol   6-Speed AT   2WD                50.0   \n",
       "\n",
       "   Boot Space  Fuel Efficiency Emission Type  Engine Size  Horsepower  \n",
       "0       521.0            19.40         BS VI        0.999          75  \n",
       "1       521.0            18.12         BS VI        0.999          75  \n",
       "2       521.0            18.67         BS VI        1.498         110  \n",
       "3       385.0            19.20         BS VI        0.999          75  \n",
       "4       385.0            17.23         BS VI        0.999          75  "
      ]
     },
     "execution_count": 4,
     "metadata": {},
     "output_type": "execute_result"
    }
   ],
   "source": [
    "df = pd.read_csv(\"Updated_Cars_India_Dataset_Final.csv\")\n",
    "\n",
    "df = df.dropna(thresh=15)\n",
    "\n",
    "df = df.fillna({\n",
    "    'Boot Space': df['Boot Space'].mean(),\n",
    "    'Fuel Efficiency': df['Fuel Efficiency'].mean()\n",
    "})\n",
    "\n",
    "df = df.drop(columns=['Model', 'Engine Type', 'Tyre Size'])\n",
    "\n",
    "df.head()\n"
   ]
  },
  {
   "cell_type": "code",
   "execution_count": 5,
   "id": "f724a8be-18c0-4720-9a75-0b3b41d8c606",
   "metadata": {},
   "outputs": [
    {
     "data": {
      "text/plain": [
       "(155, 65)"
      ]
     },
     "execution_count": 5,
     "metadata": {},
     "output_type": "execute_result"
    }
   ],
   "source": [
    "\n",
    "numeric_cols = ['Seats', 'Displacement', 'Length', 'Width', 'Height', 'Wheelbase',\n",
    "                'No_of_Cylinders', 'Fuel Tank Capacity', 'Boot Space', 'Engine Size', 'Horsepower']\n",
    "\n",
    "scaler = StandardScaler()\n",
    "df[numeric_cols] = scaler.fit_transform(df[numeric_cols])\n",
    "\n",
    "df = pd.get_dummies(df, columns=['Maker', 'Type', 'Fuel', 'Transmission', 'Drive', 'Emission Type'])\n",
    "\n",
    "df.shape\n"
   ]
  },
  {
   "cell_type": "code",
   "execution_count": 6,
   "id": "83f2ffa8-4887-458a-89ac-76b18e06c6d7",
   "metadata": {},
   "outputs": [
    {
     "data": {
      "text/plain": [
       "((124, 64), (31, 64))"
      ]
     },
     "execution_count": 6,
     "metadata": {},
     "output_type": "execute_result"
    }
   ],
   "source": [
    "X = df.drop(columns=['Fuel Efficiency'])\n",
    "y = df['Fuel Efficiency']\n",
    "X_train, X_test, y_train, y_test = train_test_split(X, y, test_size=0.2, random_state=42)\n",
    "X_train.shape, X_test.shape\n"
   ]
  },
  {
   "cell_type": "code",
   "execution_count": 7,
   "id": "97cf0a3c-6e65-46e6-9994-c6d53fba2f21",
   "metadata": {},
   "outputs": [
    {
     "name": "stdout",
     "output_type": "stream",
     "text": [
      "✅ R² Score: 0.5299674435485235\n",
      "📉 RMSE: 2.5033348286377985\n"
     ]
    }
   ],
   "source": [
    "model = LinearRegression()\n",
    "model.fit(X_train, y_train)\n",
    "\n",
    "y_pred = model.predict(X_test)\n",
    "\n",
    "r2 = r2_score(y_test, y_pred)\n",
    "\n",
    "import numpy as np\n",
    "rmse = np.sqrt(mean_squared_error(y_test, y_pred))\n",
    "\n",
    "print(\"✅ R² Score:\", r2)\n",
    "print(\"📉 RMSE:\", rmse)\n",
    "df.to_csv(\"Cleaned_Cars_India_Dataset.csv\", index=False)\n",
    "\n"
   ]
  },
  {
   "cell_type": "code",
   "execution_count": null,
   "id": "7d489100-c65e-4b03-8380-da16b484bd0d",
   "metadata": {},
   "outputs": [],
   "source": []
  },
  {
   "cell_type": "code",
   "execution_count": null,
   "id": "7ba04fbf-d978-45c1-892b-32fd8899492a",
   "metadata": {},
   "outputs": [],
   "source": []
  }
 ],
 "metadata": {
  "kernelspec": {
   "display_name": "Python 3 (ipykernel)",
   "language": "python",
   "name": "python3"
  },
  "language_info": {
   "codemirror_mode": {
    "name": "ipython",
    "version": 3
   },
   "file_extension": ".py",
   "mimetype": "text/x-python",
   "name": "python",
   "nbconvert_exporter": "python",
   "pygments_lexer": "ipython3",
   "version": "3.13.3"
  }
 },
 "nbformat": 4,
 "nbformat_minor": 5
}
